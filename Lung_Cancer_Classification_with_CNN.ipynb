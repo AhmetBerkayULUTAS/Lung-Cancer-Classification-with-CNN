{
  "cells": [
    {
      "cell_type": "markdown",
      "metadata": {
        "id": "view-in-github",
        "colab_type": "text"
      },
      "source": [
        "<a href=\"https://colab.research.google.com/github/AhmetBerkayULUTAS/Lung-Cancer-Classification-with-CNN/blob/main/Lung_Cancer_Classification_with_CNN.ipynb\" target=\"_parent\"><img src=\"https://colab.research.google.com/assets/colab-badge.svg\" alt=\"Open In Colab\"/></a>"
      ]
    },
    {
      "cell_type": "code",
      "execution_count": 26,
      "metadata": {
        "id": "pUoCpKGBXYlz"
      },
      "outputs": [],
      "source": [
        "import numpy as np\n",
        "import cv2\n",
        "import os\n",
        "from google.colab import drive\n",
        "import pickle"
      ]
    },
    {
      "cell_type": "code",
      "execution_count": 27,
      "metadata": {
        "colab": {
          "base_uri": "https://localhost:8080/"
        },
        "id": "BMf7E3-MZjx2",
        "outputId": "618487e1-37ab-41c7-b734-ec9e405b5f10"
      },
      "outputs": [
        {
          "output_type": "stream",
          "name": "stdout",
          "text": [
            "['lung_squamous cell carcinoma', 'lung_adenocarcinoma', 'lung_benign tissue']\n"
          ]
        }
      ],
      "source": [
        "print(os.listdir(\"/content/drive/MyDrive/lung_image_sets\"))"
      ]
    },
    {
      "cell_type": "code",
      "execution_count": 28,
      "metadata": {
        "id": "OD7G9xmcd1PJ"
      },
      "outputs": [],
      "source": [
        "datadir = '/content/drive/MyDrive/lung_image_sets'\n",
        "categories = ['lung_benign tissue', 'lung_squamous cell carcinoma', 'lung_adenocarcinoma']\n",
        "all_data = []\n",
        "img_size = 128"
      ]
    },
    {
      "cell_type": "code",
      "execution_count": 4,
      "metadata": {
        "colab": {
          "base_uri": "https://localhost:8080/"
        },
        "id": "PuONAuOmeYFd",
        "outputId": "6b8868f5-20e0-4066-f0e3-b89e97baf258"
      },
      "outputs": [
        {
          "output_type": "stream",
          "name": "stdout",
          "text": [
            "Category label no: 0 /content/drive/MyDrive/lung_image_sets/lung_benign tissue  count: 4495\n",
            "Category label no: 1 /content/drive/MyDrive/lung_image_sets/lung_squamous cell carcinoma  count: 5000\n",
            "Category label no: 2 /content/drive/MyDrive/lung_image_sets/lung_adenocarcinoma  count: 5000\n"
          ]
        }
      ],
      "source": [
        "def create_all_data():\n",
        "    for category in categories:\n",
        "        path=os.path.join(datadir, category)\n",
        "        class_num=categories.index(category)\n",
        "        count = 0\n",
        "        for img in os.listdir(path):\n",
        "            img_array=cv2.imread(os.path.join(path,img))\n",
        "            new_array=cv2.resize(img_array,(img_size,img_size), interpolation=cv2.INTER_AREA)\n",
        "            all_data.append([new_array,class_num])\n",
        "            count += 1\n",
        "        print(\"Category label no:\",class_num,path,\" count:\", count)\n",
        "\n",
        "    with open('Data128x128.pkl', 'wb') as file:\n",
        "        pickle.dump(all_data, file)\n",
        "\n",
        "create_all_data()"
      ]
    },
    {
      "cell_type": "code",
      "execution_count": 5,
      "metadata": {
        "colab": {
          "base_uri": "https://localhost:8080/"
        },
        "id": "Yh-NoKLKvUo_",
        "outputId": "e679ee54-e68f-4905-e404-0a50e4c83bb3"
      },
      "outputs": [
        {
          "output_type": "stream",
          "name": "stdout",
          "text": [
            "14495\n"
          ]
        }
      ],
      "source": [
        "with open('Data128x128.pkl', 'rb') as file:\n",
        "    all_data = pickle.load(file)\n",
        "\n",
        "print(len(all_data))"
      ]
    },
    {
      "cell_type": "code",
      "execution_count": 6,
      "metadata": {
        "id": "KjY8dMg_fKAE"
      },
      "outputs": [],
      "source": [
        "X = []\n",
        "y = []\n",
        "\n",
        "for categories, label in all_data:\n",
        "  X.append(categories)\n",
        "  y.append(label)"
      ]
    },
    {
      "cell_type": "code",
      "execution_count": 7,
      "metadata": {
        "id": "b62P9dd4AUaX"
      },
      "outputs": [],
      "source": [
        "from sklearn.model_selection import train_test_split\n",
        "\n",
        "x_train, x_test, y_train, y_test = train_test_split(X, y, test_size=0.20, random_state =42)\n",
        "\n",
        "x_train, x_val, y_train, y_val = train_test_split(x_train, y_train, test_size=0.10, random_state=42)\n",
        "\n",
        "x_train = np.array(x_train)\n",
        "x_test = np.array(x_test)\n",
        "\n",
        "y_train = np.array(y_train)\n",
        "y_test = np.array(y_test)\n",
        "\n",
        "x_val = np.array(x_val)\n",
        "y_val = np.array(y_val)"
      ]
    },
    {
      "cell_type": "code",
      "execution_count": 8,
      "metadata": {
        "colab": {
          "base_uri": "https://localhost:8080/"
        },
        "id": "jcOpkE4YFe6G",
        "outputId": "48e7e530-d68f-48af-fca8-5531fada361b"
      },
      "outputs": [
        {
          "output_type": "stream",
          "name": "stdout",
          "text": [
            "X Train\n",
            "(10436, 128, 128, 3)\n",
            "X Test\n",
            "(2899, 128, 128, 3)\n",
            "X Vaidation\n",
            "(1160, 128, 128, 3) \n",
            "\n",
            "Y Train\n",
            "(10436,)\n",
            "Y Test\n",
            "(2899,)\n",
            "Y Vaidation\n",
            "(1160,)\n"
          ]
        }
      ],
      "source": [
        "print(\"X Train\")\n",
        "print(x_train.shape)\n",
        "print(\"X Test\")\n",
        "print(x_test.shape)\n",
        "print(\"X Vaidation\")\n",
        "print(x_val.shape,\"\\n\")\n",
        "\n",
        "print(\"Y Train\")\n",
        "print(y_train.shape)\n",
        "print(\"Y Test\")\n",
        "print(y_test.shape)\n",
        "print(\"Y Vaidation\")\n",
        "print(y_val.shape)"
      ]
    },
    {
      "cell_type": "code",
      "execution_count": 9,
      "metadata": {
        "id": "OBNNANFxO2WJ"
      },
      "outputs": [],
      "source": [
        "import tensorflow as tf\n",
        "\n",
        "train_yCl = tf.keras.utils.to_categorical(y_train, num_classes=3)\n",
        "test_yCl = tf.keras.utils.to_categorical(y_test, num_classes=3)\n",
        "valid_yCl = tf.keras.utils.to_categorical(y_val, num_classes=3)"
      ]
    },
    {
      "cell_type": "code",
      "execution_count": 10,
      "metadata": {
        "id": "8JbyRB8gRjT7"
      },
      "outputs": [],
      "source": [
        "from keras.layers import Input, Dense, Activation, BatchNormalization, Flatten, Conv2D, MaxPooling2D, Dropout\n",
        "from keras.models import Sequential\n",
        "from keras.optimizers import Adam\n",
        "from tensorflow.keras.optimizers.schedules import ExponentialDecay\n",
        "\n",
        "def create_model(learning_rate,kernel,dropout):\n",
        "    model = Sequential()\n",
        "\n",
        "    model.add(Conv2D(32, (kernel,kernel), padding='same', activation='relu',input_shape=(img_size, img_size, 3)))\n",
        "    model.add(Conv2D(32, (kernel,kernel), padding='same', activation='relu'))\n",
        "    model.add(MaxPooling2D(pool_size=(2,2)))\n",
        "    model.add(BatchNormalization())\n",
        "    model.add(Dropout(0.1))\n",
        "\n",
        "    model.add(Conv2D(64, (kernel,kernel), padding='same', activation='relu'))\n",
        "    model.add(Conv2D(64, (kernel,kernel), padding='same', activation='relu'))\n",
        "    model.add(MaxPooling2D(pool_size=(2,2)))\n",
        "    model.add(BatchNormalization())\n",
        "    model.add(Dropout(0.1))\n",
        "\n",
        "    model.add(Conv2D(128, (kernel,kernel), padding='same', activation='relu'))\n",
        "    model.add(Conv2D(128, (kernel,kernel), padding='same', activation='relu'))\n",
        "    model.add(MaxPooling2D(pool_size=(2,2)))\n",
        "    model.add(BatchNormalization())\n",
        "    model.add(Dropout(0.1))\n",
        "\n",
        "    model.add(Flatten())\n",
        "    model.add(Dense(512, activation='relu'))\n",
        "    model.add(Dropout(dropout))\n",
        "    model.add(Dense(512, activation='relu'))\n",
        "    model.add(Dense(3))\n",
        "    model.add(Activation('softmax'))\n",
        "\n",
        "    learning_rate = ExponentialDecay(learning_rate, decay_steps=1300, decay_rate=0.96, staircase=True)\n",
        "    optimizer=Adam(learning_rate=learning_rate,beta_1=0.9,beta_2=0.999)\n",
        "\n",
        "    model.compile(optimizer=optimizer,loss=\"categorical_crossentropy\",metrics=[\"accuracy\"])\n",
        "    return model"
      ]
    },
    {
      "cell_type": "code",
      "execution_count": 11,
      "metadata": {
        "colab": {
          "base_uri": "https://localhost:8080/"
        },
        "id": "-j313c97AuYq",
        "outputId": "a3e163d9-3bcf-4bae-c2ed-1142251673d8"
      },
      "outputs": [
        {
          "output_type": "stream",
          "name": "stdout",
          "text": [
            "Collecting scikeras\n",
            "  Downloading scikeras-0.12.0-py3-none-any.whl (27 kB)\n",
            "Requirement already satisfied: packaging>=0.21 in /usr/local/lib/python3.10/dist-packages (from scikeras) (23.2)\n",
            "Requirement already satisfied: scikit-learn>=1.0.0 in /usr/local/lib/python3.10/dist-packages (from scikeras) (1.2.2)\n",
            "Requirement already satisfied: numpy>=1.17.3 in /usr/local/lib/python3.10/dist-packages (from scikit-learn>=1.0.0->scikeras) (1.23.5)\n",
            "Requirement already satisfied: scipy>=1.3.2 in /usr/local/lib/python3.10/dist-packages (from scikit-learn>=1.0.0->scikeras) (1.11.4)\n",
            "Requirement already satisfied: joblib>=1.1.1 in /usr/local/lib/python3.10/dist-packages (from scikit-learn>=1.0.0->scikeras) (1.3.2)\n",
            "Requirement already satisfied: threadpoolctl>=2.0.0 in /usr/local/lib/python3.10/dist-packages (from scikit-learn>=1.0.0->scikeras) (3.2.0)\n",
            "Installing collected packages: scikeras\n",
            "Successfully installed scikeras-0.12.0\n"
          ]
        }
      ],
      "source": [
        "!pip install scikeras"
      ]
    },
    {
      "cell_type": "code",
      "execution_count": 12,
      "metadata": {
        "id": "07MBAHnUdkBQ"
      },
      "outputs": [],
      "source": [
        "from scikeras.wrappers import KerasClassifier\n",
        "from scipy.stats import uniform, randint\n",
        "\n",
        "param_dist = {\n",
        "    'learning_rate' : uniform(0.005 , 0.05),\n",
        "    'kernel'        : randint(2 , 5),\n",
        "    'dropout'       : uniform(0.2 , 0.5)\n",
        "}\n",
        "\n",
        "model = KerasClassifier(model=create_model,batch_size=32, epochs=5, learning_rate=0.005, kernel=2, dropout=0.2)"
      ]
    },
    {
      "cell_type": "code",
      "execution_count": 13,
      "metadata": {
        "id": "6Tqe6DFeN_ay",
        "colab": {
          "base_uri": "https://localhost:8080/"
        },
        "outputId": "c5c82ddf-c7ee-48d7-e729-de84d80d49ce"
      },
      "outputs": [
        {
          "output_type": "stream",
          "name": "stdout",
          "text": [
            "Epoch 1/5\n",
            "164/164 [==============================] - 28s 72ms/step - loss: 9.3081 - accuracy: 0.7169\n",
            "Epoch 2/5\n",
            "164/164 [==============================] - 10s 59ms/step - loss: 0.4812 - accuracy: 0.8204\n",
            "Epoch 3/5\n",
            "164/164 [==============================] - 10s 59ms/step - loss: 0.4791 - accuracy: 0.8266\n",
            "Epoch 4/5\n",
            "164/164 [==============================] - 11s 67ms/step - loss: 0.4460 - accuracy: 0.8245\n",
            "Epoch 5/5\n",
            "164/164 [==============================] - 10s 59ms/step - loss: 0.4159 - accuracy: 0.8616\n",
            "164/164 [==============================] - 2s 10ms/step\n",
            "Epoch 1/5\n",
            "164/164 [==============================] - 13s 60ms/step - loss: 11.8067 - accuracy: 0.7474\n",
            "Epoch 2/5\n",
            "164/164 [==============================] - 10s 60ms/step - loss: 0.4908 - accuracy: 0.8432\n",
            "Epoch 3/5\n",
            "164/164 [==============================] - 10s 61ms/step - loss: 0.6771 - accuracy: 0.7449\n",
            "Epoch 4/5\n",
            "164/164 [==============================] - 10s 61ms/step - loss: 0.6924 - accuracy: 0.6901\n",
            "Epoch 5/5\n",
            "164/164 [==============================] - 10s 60ms/step - loss: 0.7408 - accuracy: 0.5943\n",
            "164/164 [==============================] - 2s 10ms/step\n",
            "Epoch 1/5\n",
            "164/164 [==============================] - 13s 61ms/step - loss: 29.7432 - accuracy: 0.4644\n",
            "Epoch 2/5\n",
            "164/164 [==============================] - 10s 59ms/step - loss: 1.5853 - accuracy: 0.4636\n",
            "Epoch 3/5\n",
            "164/164 [==============================] - 10s 59ms/step - loss: 1.1070 - accuracy: 0.3407\n",
            "Epoch 4/5\n",
            "164/164 [==============================] - 10s 59ms/step - loss: 1.0984 - accuracy: 0.3354\n",
            "Epoch 5/5\n",
            "164/164 [==============================] - 10s 59ms/step - loss: 1.0988 - accuracy: 0.3475\n",
            "164/164 [==============================] - 2s 10ms/step\n",
            "Epoch 1/5\n",
            "164/164 [==============================] - 14s 59ms/step - loss: 58.9471 - accuracy: 0.3612\n",
            "Epoch 2/5\n",
            "164/164 [==============================] - 10s 58ms/step - loss: 1.1497 - accuracy: 0.3409\n",
            "Epoch 3/5\n",
            "164/164 [==============================] - 9s 57ms/step - loss: 1.1093 - accuracy: 0.3473\n",
            "Epoch 4/5\n",
            "164/164 [==============================] - 10s 59ms/step - loss: 1.1733 - accuracy: 0.3565\n",
            "Epoch 5/5\n",
            "164/164 [==============================] - 10s 59ms/step - loss: 1.1020 - accuracy: 0.3402\n",
            "164/164 [==============================] - 2s 10ms/step\n",
            "Epoch 1/5\n",
            "164/164 [==============================] - 16s 60ms/step - loss: 203.2425 - accuracy: 0.3791\n",
            "Epoch 2/5\n",
            "164/164 [==============================] - 9s 58ms/step - loss: 1.1534 - accuracy: 0.3455\n",
            "Epoch 3/5\n",
            "164/164 [==============================] - 10s 58ms/step - loss: 1.0999 - accuracy: 0.3415\n",
            "Epoch 4/5\n",
            "164/164 [==============================] - 9s 56ms/step - loss: 1.1027 - accuracy: 0.3386\n",
            "Epoch 5/5\n",
            "164/164 [==============================] - 9s 57ms/step - loss: 1.1029 - accuracy: 0.3503\n",
            "164/164 [==============================] - 2s 10ms/step\n",
            "Epoch 1/5\n",
            "164/164 [==============================] - 13s 58ms/step - loss: 206.0580 - accuracy: 0.3681\n",
            "Epoch 2/5\n",
            "164/164 [==============================] - 9s 57ms/step - loss: 1.1083 - accuracy: 0.3557\n",
            "Epoch 3/5\n",
            "164/164 [==============================] - 10s 59ms/step - loss: 1.0984 - accuracy: 0.3536\n",
            "Epoch 4/5\n",
            "164/164 [==============================] - 10s 58ms/step - loss: 1.1098 - accuracy: 0.3517\n",
            "Epoch 5/5\n",
            "164/164 [==============================] - 10s 58ms/step - loss: 1.2383 - accuracy: 0.3501\n",
            "164/164 [==============================] - 2s 9ms/step\n",
            "Epoch 1/5\n",
            "164/164 [==============================] - 13s 60ms/step - loss: 113.1898 - accuracy: 0.6069\n",
            "Epoch 2/5\n",
            "164/164 [==============================] - 9s 58ms/step - loss: 9.5536 - accuracy: 0.3795\n",
            "Epoch 3/5\n",
            "164/164 [==============================] - 9s 58ms/step - loss: 1.0672 - accuracy: 0.3760\n",
            "Epoch 4/5\n",
            "164/164 [==============================] - 10s 59ms/step - loss: 1.0512 - accuracy: 0.3816\n",
            "Epoch 5/5\n",
            "164/164 [==============================] - 9s 57ms/step - loss: 1.0920 - accuracy: 0.3693\n",
            "164/164 [==============================] - 2s 9ms/step\n",
            "Epoch 1/5\n",
            "164/164 [==============================] - 15s 59ms/step - loss: 71.0292 - accuracy: 0.6033\n",
            "Epoch 2/5\n",
            "164/164 [==============================] - 10s 58ms/step - loss: 1.1886 - accuracy: 0.3582\n",
            "Epoch 3/5\n",
            "164/164 [==============================] - 10s 59ms/step - loss: 1.1194 - accuracy: 0.3885\n",
            "Epoch 4/5\n",
            "164/164 [==============================] - 10s 59ms/step - loss: 0.9231 - accuracy: 0.4946\n",
            "Epoch 5/5\n",
            "164/164 [==============================] - 10s 59ms/step - loss: 1.6238 - accuracy: 0.5471\n",
            "164/164 [==============================] - 2s 9ms/step\n",
            "Epoch 1/5\n",
            "164/164 [==============================] - 13s 60ms/step - loss: 3.6402 - accuracy: 0.7645\n",
            "Epoch 2/5\n",
            "164/164 [==============================] - 10s 60ms/step - loss: 0.5904 - accuracy: 0.7953\n",
            "Epoch 3/5\n",
            "164/164 [==============================] - 10s 61ms/step - loss: 0.4418 - accuracy: 0.8248\n",
            "Epoch 4/5\n",
            "164/164 [==============================] - 10s 60ms/step - loss: 0.4396 - accuracy: 0.8440\n",
            "Epoch 5/5\n",
            "164/164 [==============================] - 10s 60ms/step - loss: 0.4350 - accuracy: 0.8645\n",
            "164/164 [==============================] - 2s 10ms/step\n",
            "Epoch 1/5\n",
            "164/164 [==============================] - 13s 60ms/step - loss: 5.6128 - accuracy: 0.7932\n",
            "Epoch 2/5\n",
            "164/164 [==============================] - 10s 60ms/step - loss: 0.3740 - accuracy: 0.8674\n",
            "Epoch 3/5\n",
            "164/164 [==============================] - 10s 60ms/step - loss: 1.0540 - accuracy: 0.7650\n",
            "Epoch 4/5\n",
            "164/164 [==============================] - 10s 60ms/step - loss: 0.4693 - accuracy: 0.8260\n",
            "Epoch 5/5\n",
            "164/164 [==============================] - 10s 59ms/step - loss: 0.4724 - accuracy: 0.8358\n",
            "164/164 [==============================] - 2s 10ms/step\n",
            "Epoch 1/5\n",
            "327/327 [==============================] - 25s 66ms/step - loss: 2.8906 - accuracy: 0.7805\n",
            "Epoch 2/5\n",
            "327/327 [==============================] - 20s 61ms/step - loss: 0.4067 - accuracy: 0.8522\n",
            "Epoch 3/5\n",
            "327/327 [==============================] - 20s 60ms/step - loss: 0.3774 - accuracy: 0.8670\n",
            "Epoch 4/5\n",
            "327/327 [==============================] - 20s 60ms/step - loss: 0.4766 - accuracy: 0.8359\n",
            "Epoch 5/5\n",
            "327/327 [==============================] - 20s 60ms/step - loss: 0.4899 - accuracy: 0.8407\n"
          ]
        }
      ],
      "source": [
        "from sklearn.model_selection import RandomizedSearchCV\n",
        "\n",
        "random = RandomizedSearchCV(estimator=model, param_distributions=param_dist, scoring='accuracy', cv=2, n_iter=5)\n",
        "random_result = random.fit(x_train, train_yCl)"
      ]
    },
    {
      "cell_type": "code",
      "execution_count": 14,
      "metadata": {
        "id": "uWxsV7Z2pSZG",
        "colab": {
          "base_uri": "https://localhost:8080/"
        },
        "outputId": "6e1fce3b-3b81-4a52-8714-4f3aeb19c2bc"
      },
      "outputs": [
        {
          "output_type": "stream",
          "name": "stdout",
          "text": [
            "Best: 0.621694 using {'dropout': 0.40180437801518243, 'kernel': 3, 'learning_rate': 0.005958432489782712}\n"
          ]
        }
      ],
      "source": [
        "print(\"Best: %f using %s\" % (random_result.best_score_, random_result.best_params_))"
      ]
    },
    {
      "cell_type": "code",
      "source": [
        "import pandas as pd\n",
        "print(\"\\nAll Results :\")\n",
        "cv_results = random_result.cv_results_\n",
        "df = pd.DataFrame(cv_results)\n",
        "\n",
        "print(df)"
      ],
      "metadata": {
        "id": "dIbW_VA_wHqc",
        "colab": {
          "base_uri": "https://localhost:8080/"
        },
        "outputId": "6c6606c8-0956-40b9-e701-a8e9a3ab7838"
      },
      "execution_count": 30,
      "outputs": [
        {
          "output_type": "stream",
          "name": "stdout",
          "text": [
            "\n",
            "All Results :\n",
            "   mean_fit_time  std_fit_time  mean_score_time  std_score_time param_dropout  \\\n",
            "0      78.054261      6.863165         2.779725        0.380194      0.313068   \n",
            "1      84.509672      0.010883         3.342702        0.045294      0.429364   \n",
            "2      85.199866      0.227325         3.406076        0.130054      0.433329   \n",
            "3      85.107185      0.535596         3.411769        0.123168      0.314507   \n",
            "4      84.791450      0.294728         3.331050        0.097888      0.401804   \n",
            "\n",
            "  param_kernel param_learning_rate  \\\n",
            "0            3             0.00915   \n",
            "1            3            0.023517   \n",
            "2            2            0.038999   \n",
            "3            2            0.027118   \n",
            "4            3            0.005958   \n",
            "\n",
            "                                              params  split0_test_score  \\\n",
            "0  {'dropout': 0.3130677744874459, 'kernel': 3, '...           0.482560   \n",
            "1  {'dropout': 0.4293638303628683, 'kernel': 3, '...           0.352434   \n",
            "2  {'dropout': 0.43332946802247807, 'kernel': 2, ...           0.342468   \n",
            "3  {'dropout': 0.31450667216937567, 'kernel': 2, ...           0.362016   \n",
            "4  {'dropout': 0.40180437801518243, 'kernel': 3, ...           0.719433   \n",
            "\n",
            "   split1_test_score  mean_test_score  std_test_score  rank_test_score  \n",
            "0           0.320238         0.401399        0.081161                2  \n",
            "1           0.347068         0.349751        0.002683                5  \n",
            "2           0.407053         0.374760        0.032292                3  \n",
            "3           0.347068         0.354542        0.007474                4  \n",
            "4           0.523956         0.621694        0.097739                1  \n"
          ]
        }
      ]
    },
    {
      "cell_type": "code",
      "execution_count": 18,
      "metadata": {
        "id": "V7JkshvaJQ4t"
      },
      "outputs": [],
      "source": [
        "final_model = create_model(learning_rate=random_result.best_params_['learning_rate'],\n",
        "                           kernel=random_result.best_params_['kernel'],\n",
        "                           dropout=random_result.best_params_['dropout']\n",
        "                           )"
      ]
    },
    {
      "cell_type": "code",
      "execution_count": 19,
      "metadata": {
        "id": "CJjX9OktZpH9"
      },
      "outputs": [],
      "source": [
        "from tensorflow import keras\n",
        "\n",
        "callback_list = [\n",
        "    keras.callbacks.ModelCheckpoint(\n",
        "        filepath='model.h5',\n",
        "        monitor = 'val_accuracy', save_best_only=True, verbose=3\n",
        "    ),\n",
        "    keras.callbacks.EarlyStopping(monitor='val_loss', patience=8, verbose=3)\n",
        "]"
      ]
    },
    {
      "cell_type": "code",
      "execution_count": 20,
      "metadata": {
        "id": "ec-jqjnda_Pi",
        "colab": {
          "base_uri": "https://localhost:8080/"
        },
        "outputId": "ab3679eb-9bf3-40c9-b6c8-23264dfe0739"
      },
      "outputs": [
        {
          "output_type": "stream",
          "name": "stdout",
          "text": [
            "Epoch 1/20\n",
            "326/327 [============================>.] - ETA: 0s - loss: 2.4067 - accuracy: 0.7906\n",
            "Epoch 1: val_accuracy improved from -inf to 0.55690, saving model to model.h5\n"
          ]
        },
        {
          "output_type": "stream",
          "name": "stderr",
          "text": [
            "/usr/local/lib/python3.10/dist-packages/keras/src/engine/training.py:3103: UserWarning: You are saving your model as an HDF5 file via `model.save()`. This file format is considered legacy. We recommend using instead the native Keras format, e.g. `model.save('my_model.keras')`.\n",
            "  saving_api.save_model(\n"
          ]
        },
        {
          "output_type": "stream",
          "name": "stdout",
          "text": [
            "\b\b\b\b\b\b\b\b\b\b\b\b\b\b\b\b\b\b\b\b\b\b\b\b\b\b\b\b\b\b\b\b\b\b\b\b\b\b\b\b\b\b\b\b\b\b\b\b\b\b\b\b\b\b\b\b\b\b\b\b\b\b\b\b\b\b\b\b\b\b\b\b\b\b\b\b\b\b\b\b\b\b\b\b\r327/327 [==============================] - 30s 77ms/step - loss: 2.4064 - accuracy: 0.7905 - val_loss: 1.2341 - val_accuracy: 0.5569\n",
            "Epoch 2/20\n",
            "326/327 [============================>.] - ETA: 0s - loss: 0.3864 - accuracy: 0.8671\n",
            "Epoch 2: val_accuracy improved from 0.55690 to 0.81552, saving model to model.h5\n",
            "327/327 [==============================] - 21s 63ms/step - loss: 0.3867 - accuracy: 0.8671 - val_loss: 0.6069 - val_accuracy: 0.8155\n",
            "Epoch 3/20\n",
            "326/327 [============================>.] - ETA: 0s - loss: 0.3605 - accuracy: 0.8826\n",
            "Epoch 3: val_accuracy did not improve from 0.81552\n",
            "327/327 [==============================] - 20s 61ms/step - loss: 0.3604 - accuracy: 0.8826 - val_loss: 64.8455 - val_accuracy: 0.3302\n",
            "Epoch 4/20\n",
            "326/327 [============================>.] - ETA: 0s - loss: 0.3151 - accuracy: 0.8930\n",
            "Epoch 4: val_accuracy improved from 0.81552 to 0.88190, saving model to model.h5\n",
            "327/327 [==============================] - 21s 64ms/step - loss: 0.3150 - accuracy: 0.8930 - val_loss: 0.3414 - val_accuracy: 0.8819\n",
            "Epoch 5/20\n",
            "326/327 [============================>.] - ETA: 0s - loss: 0.4364 - accuracy: 0.8783\n",
            "Epoch 5: val_accuracy did not improve from 0.88190\n",
            "327/327 [==============================] - 20s 61ms/step - loss: 0.4363 - accuracy: 0.8783 - val_loss: 1.2486 - val_accuracy: 0.3690\n",
            "Epoch 6/20\n",
            "326/327 [============================>.] - ETA: 0s - loss: 0.6725 - accuracy: 0.7468\n",
            "Epoch 6: val_accuracy did not improve from 0.88190\n",
            "327/327 [==============================] - 20s 61ms/step - loss: 0.6723 - accuracy: 0.7469 - val_loss: 400.6385 - val_accuracy: 0.3207\n",
            "Epoch 7/20\n",
            "326/327 [============================>.] - ETA: 0s - loss: 0.4454 - accuracy: 0.8417\n",
            "Epoch 7: val_accuracy did not improve from 0.88190\n",
            "327/327 [==============================] - 20s 62ms/step - loss: 0.4457 - accuracy: 0.8416 - val_loss: 1.9872 - val_accuracy: 0.5147\n",
            "Epoch 8/20\n",
            "326/327 [============================>.] - ETA: 0s - loss: 0.7468 - accuracy: 0.7034\n",
            "Epoch 8: val_accuracy did not improve from 0.88190\n",
            "327/327 [==============================] - 20s 61ms/step - loss: 0.7470 - accuracy: 0.7032 - val_loss: 738.7693 - val_accuracy: 0.3009\n",
            "Epoch 9/20\n",
            "326/327 [============================>.] - ETA: 0s - loss: 0.5063 - accuracy: 0.8007\n",
            "Epoch 9: val_accuracy did not improve from 0.88190\n",
            "327/327 [==============================] - 20s 61ms/step - loss: 0.5063 - accuracy: 0.8006 - val_loss: 0.2812 - val_accuracy: 0.8802\n",
            "Epoch 10/20\n",
            "326/327 [============================>.] - ETA: 0s - loss: 0.3463 - accuracy: 0.8719\n",
            "Epoch 10: val_accuracy did not improve from 0.88190\n",
            "327/327 [==============================] - 20s 61ms/step - loss: 0.3462 - accuracy: 0.8719 - val_loss: 0.2968 - val_accuracy: 0.8776\n",
            "Epoch 11/20\n",
            "326/327 [============================>.] - ETA: 0s - loss: 0.2444 - accuracy: 0.9020\n",
            "Epoch 11: val_accuracy improved from 0.88190 to 0.91379, saving model to model.h5\n",
            "327/327 [==============================] - 21s 63ms/step - loss: 0.2444 - accuracy: 0.9021 - val_loss: 0.2816 - val_accuracy: 0.9138\n",
            "Epoch 12/20\n",
            "326/327 [============================>.] - ETA: 0s - loss: 0.2337 - accuracy: 0.9110\n",
            "Epoch 12: val_accuracy did not improve from 0.91379\n",
            "327/327 [==============================] - 20s 61ms/step - loss: 0.2498 - accuracy: 0.9110 - val_loss: 0.3224 - val_accuracy: 0.8552\n",
            "Epoch 13/20\n",
            "326/327 [============================>.] - ETA: 0s - loss: 1.0961 - accuracy: 0.3674\n",
            "Epoch 13: val_accuracy did not improve from 0.91379\n",
            "327/327 [==============================] - 20s 60ms/step - loss: 1.0961 - accuracy: 0.3675 - val_loss: 1.0967 - val_accuracy: 0.3302\n",
            "Epoch 14/20\n",
            "326/327 [============================>.] - ETA: 0s - loss: 1.0977 - accuracy: 0.3480\n",
            "Epoch 14: val_accuracy did not improve from 0.91379\n",
            "327/327 [==============================] - 19s 59ms/step - loss: 1.0977 - accuracy: 0.3479 - val_loss: 1.0984 - val_accuracy: 0.3302\n",
            "Epoch 15/20\n",
            "326/327 [============================>.] - ETA: 0s - loss: 1.0976 - accuracy: 0.3402\n",
            "Epoch 15: val_accuracy did not improve from 0.91379\n",
            "327/327 [==============================] - 19s 59ms/step - loss: 1.0976 - accuracy: 0.3403 - val_loss: 1.0998 - val_accuracy: 0.3302\n",
            "Epoch 16/20\n",
            "326/327 [============================>.] - ETA: 0s - loss: 1.1024 - accuracy: 0.3467\n",
            "Epoch 16: val_accuracy did not improve from 0.91379\n",
            "327/327 [==============================] - 19s 59ms/step - loss: 1.1024 - accuracy: 0.3468 - val_loss: 1.0969 - val_accuracy: 0.3302\n",
            "Epoch 17/20\n",
            "326/327 [============================>.] - ETA: 0s - loss: 1.0992 - accuracy: 0.3443\n",
            "Epoch 17: val_accuracy did not improve from 0.91379\n",
            "327/327 [==============================] - 19s 59ms/step - loss: 1.0992 - accuracy: 0.3445 - val_loss: 1.0966 - val_accuracy: 0.3302\n",
            "Epoch 17: early stopping\n"
          ]
        }
      ],
      "source": [
        "history = final_model.fit(x_train, train_yCl,\n",
        "                    batch_size=32,\n",
        "                    validation_data = (x_val, valid_yCl),\n",
        "                    callbacks = callback_list,\n",
        "                    epochs = 20\n",
        "                    )"
      ]
    },
    {
      "cell_type": "code",
      "execution_count": 21,
      "metadata": {
        "id": "hFX3CpwaRA6h"
      },
      "outputs": [],
      "source": [
        "model = keras.models.load_model('/content/model.h5')"
      ]
    },
    {
      "cell_type": "code",
      "execution_count": 22,
      "metadata": {
        "id": "ssgZwwaApODM",
        "colab": {
          "base_uri": "https://localhost:8080/"
        },
        "outputId": "c2c22808-92b4-45ba-a95b-e93a3abba6b9"
      },
      "outputs": [
        {
          "output_type": "stream",
          "name": "stdout",
          "text": [
            "37/37 [==============================] - 1s 13ms/step - loss: 0.2816 - accuracy: 0.9138\n",
            "Validation Accuracy:  [0.28163811564445496, 0.9137930870056152]\n",
            "91/91 [==============================] - 2s 19ms/step - loss: 0.3168 - accuracy: 0.9096\n",
            "Validation Accuracy:  [0.3167824149131775, 0.9096239805221558]\n",
            "327/327 [==============================] - 4s 12ms/step - loss: 0.2087 - accuracy: 0.9256\n",
            "Validation Accuracy:  [0.2087075114250183, 0.9256420135498047]\n"
          ]
        }
      ],
      "source": [
        "score_valid = model.evaluate(x_val, valid_yCl)\n",
        "print(\"Validation Accuracy: \", score_valid)\n",
        "\n",
        "score_test = model.evaluate(x_test, test_yCl)\n",
        "print(\"Validation Accuracy: \", score_test)\n",
        "\n",
        "score_train = model.evaluate(x_train, train_yCl)\n",
        "print(\"Validation Accuracy: \", score_train)"
      ]
    },
    {
      "cell_type": "code",
      "execution_count": 23,
      "metadata": {
        "id": "3rWAfFqDPc6J"
      },
      "outputs": [],
      "source": [
        "from sklearn.metrics import accuracy_score, f1_score, precision_score, recall_score, confusion_matrix,classification_report\n",
        "\n",
        "def calculate_metrics(y_true, y_pred):\n",
        "    accuracy = accuracy_score(y_true, y_pred)\n",
        "    f1 = f1_score(y_true, y_pred, average='weighted')\n",
        "    precision = precision_score(y_true, y_pred, average='weighted')\n",
        "    recall = recall_score(y_true, y_pred, average='weighted')\n",
        "    confusion_mat = confusion_matrix(y_true, y_pred)\n",
        "    class_report = classification_report(y_true, y_pred)\n",
        "    return accuracy, f1, precision, recall, confusion_mat, class_report"
      ]
    },
    {
      "cell_type": "code",
      "execution_count": 24,
      "metadata": {
        "id": "zXMQy0FRQgi0",
        "colab": {
          "base_uri": "https://localhost:8080/"
        },
        "outputId": "0f529a44-03c7-4044-f391-492f7c96f956"
      },
      "outputs": [
        {
          "output_type": "stream",
          "name": "stdout",
          "text": [
            "91/91 [==============================] - 1s 10ms/step\n"
          ]
        }
      ],
      "source": [
        "y_pred = model.predict(x_test)"
      ]
    },
    {
      "cell_type": "code",
      "execution_count": 25,
      "metadata": {
        "id": "7pSsSO8DRLxg",
        "colab": {
          "base_uri": "https://localhost:8080/"
        },
        "outputId": "f6346e5b-25dc-4f1e-9eb3-f5c6beab4d43"
      },
      "outputs": [
        {
          "output_type": "stream",
          "name": "stdout",
          "text": [
            "Test Accuracy: 0.9096\n",
            "Test Precision: 0.9166\n",
            "Test Recall: 0.9096\n",
            "Test F1 Skoru: 0.9107\n",
            "\n",
            "\n",
            "Karmaşıklık Matrisi:\n",
            "[[870   0  59]\n",
            " [  0 822 145]\n",
            " [  0  58 945]]\n",
            "\n",
            "Sınıflandırma Raporu:\n",
            "              precision    recall  f1-score   support\n",
            "\n",
            "           0       1.00      0.94      0.97       929\n",
            "           1       0.93      0.85      0.89       967\n",
            "           2       0.82      0.94      0.88      1003\n",
            "\n",
            "    accuracy                           0.91      2899\n",
            "   macro avg       0.92      0.91      0.91      2899\n",
            "weighted avg       0.92      0.91      0.91      2899\n",
            "\n"
          ]
        }
      ],
      "source": [
        "accuracy, f1, precision, recall, confusion_mat, class_report = calculate_metrics(test_yCl.argmax(axis=1),y_pred.argmax(axis=1))\n",
        "\n",
        "print(f\"Test Accuracy: {accuracy:.4f}\")\n",
        "print(f\"Test Precision: {precision:.4f}\")\n",
        "print(f\"Test Recall: {recall:.4f}\")\n",
        "print(f\"Test F1 Skoru: {f1:.4f}\\n\")\n",
        "\n",
        "print(\"\\nKarmaşıklık Matrisi:\")\n",
        "print(confusion_mat)\n",
        "\n",
        "print(\"\\nSınıflandırma Raporu:\")\n",
        "print(class_report)"
      ]
    }
  ],
  "metadata": {
    "accelerator": "GPU",
    "colab": {
      "provenance": [],
      "gpuType": "T4",
      "mount_file_id": "18DDdyyzikw_y4iI8e5NHWLFkz6udmqVy",
      "authorship_tag": "ABX9TyOGiXSP66/7PodUGjz6dI7k",
      "include_colab_link": true
    },
    "kernelspec": {
      "display_name": "Python 3",
      "name": "python3"
    },
    "language_info": {
      "name": "python"
    }
  },
  "nbformat": 4,
  "nbformat_minor": 0
}